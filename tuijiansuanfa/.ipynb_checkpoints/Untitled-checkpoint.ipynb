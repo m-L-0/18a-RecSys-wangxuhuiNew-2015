{
 "cells": [
  {
   "cell_type": "code",
   "execution_count": 14,
   "metadata": {},
   "outputs": [],
   "source": [
    "#基于用户的协同过滤推荐算法实现\n",
    "import random\n",
    "\n",
    "import math\n",
    "from operator import itemgetter\n",
    "\n",
    "\n",
    "class UserBasedCF():\n",
    "    # 初始化相关参数\n",
    "    def __init__(self):\n",
    "        # 找到与目标用户兴趣相似的20个用户，为其推荐10部电影\n",
    "        self.n_sim_user = 20\n",
    "        self.n_rec_movie = 10\n",
    "\n",
    "        # 将数据集划分为训练集和测试集\n",
    "        self.trainSet = {}\n",
    "        self.testSet = {}\n",
    "\n",
    "        # 用户相似度矩阵\n",
    "        self.user_sim_matrix = {}\n",
    "        self.movie_count = 0\n",
    "\n",
    "        print('Similar user number = %d' % self.n_sim_user)\n",
    "        print('Recommneded movie number = %d' % self.n_rec_movie)\n",
    "    def get_dataset(self, filename, pivot=0.75):\n",
    "        trainSet_len = 0\n",
    "        testSet_len = 0\n",
    "        for line in self.load_file(filename):\n",
    "            user, movie, rating, timestamp = line.split(',')\n",
    "            if random.random() < pivot:\n",
    "                self.trainSet.setdefault(user, {})\n",
    "                self.trainSet[user][movie] = rating\n",
    "                trainSet_len += 1\n",
    "            else:\n",
    "                self.testSet.setdefault(user, {})\n",
    "                self.testSet[user][movie] = rating\n",
    "                testSet_len += 1\n",
    "        print('Split trainingSet and testSet success!')\n",
    "        print('TrainSet = %s' % trainSet_len)\n",
    "        print('TestSet = %s' % testSet_len)\n",
    "    # 读文件，返回文件的每一行\n",
    "    def load_file(self, filename):\n",
    "        with open(filename, 'r') as f:\n",
    "            for i, line in enumerate(f):\n",
    "                if i == 0:  # 去掉文件第一行的title\n",
    "                    continue\n",
    "                yield line.strip('\\r\\n')\n",
    "        print('Load %s success!' % filename)\n",
    "    # 计算用户之间的相似度\n",
    "    def calc_user_sim(self):\n",
    "        # 构建“电影-用户”倒排索引\n",
    "        # key = movieID, value = list of userIDs who have seen this movie\n",
    "        print('Building movie-user table ...')\n",
    "        movie_user = {}\n",
    "        for user, movies in self.trainSet.items():\n",
    "            for movie in movies:\n",
    "                if movie not in movie_user:\n",
    "                    movie_user[movie] = set()\n",
    "                movie_user[movie].add(user)\n",
    "        print('Build movie-user table success!')\n",
    "\n",
    "        self.movie_count = len(movie_user)\n",
    "        print('Total movie number = %d' % self.movie_count)\n",
    "\n",
    "        print('Build user co-rated movies matrix ...')\n",
    "        for movie, users in movie_user.items():\n",
    "            for u in users:\n",
    "                for v in users:\n",
    "                    if u == v:\n",
    "                        continue\n",
    "                    self.user_sim_matrix.setdefault(u, {})\n",
    "                    self.user_sim_matrix[u].setdefault(v, 0)\n",
    "                    self.user_sim_matrix[u][v] += 1\n",
    "        print('Build user co-rated movies matrix success!')\n",
    "        # 计算相似性\n",
    "        print('Calculating user similarity matrix ...')\n",
    "        for u, related_users in self.user_sim_matrix.items():\n",
    "            for v, count in related_users.items():\n",
    "                self.user_sim_matrix[u][v] = count / math.sqrt(len(self.trainSet[u]) * len(self.trainSet[v]))\n",
    "        print('Calculate user similarity matrix success!')\n",
    "    # 针对目标用户U，找到其最相似的K个用户，产生N个推荐\n",
    "    def recommend(self, user):\n",
    "        K = self.n_sim_user\n",
    "        N = self.n_rec_movie\n",
    "        rank = {}\n",
    "        watched_movies = self.trainSet[user]\n",
    "\n",
    "        # v=similar user, wuv=similar factor\n",
    "        for v, wuv in sorted(self.user_sim_matrix[user].items(), key=itemgetter(1), reverse=True)[0:K]:\n",
    "            for movie in self.trainSet[v]:\n",
    "                if movie in watched_movies:\n",
    "                    continue\n",
    "                rank.setdefault(movie, 0)\n",
    "                rank[movie] += wuv\n",
    "        return sorted(rank.items(), key=itemgetter(1), reverse=True)[0:N]\n",
    "    # 产生推荐并通过准确率、召回率和覆盖率进行评估\n",
    "    def evaluate(self):\n",
    "        print(\"Evaluation start ...\")\n",
    "        N = self.n_rec_movie\n",
    "        # 准确率和召回率\n",
    "        hit = 0\n",
    "        rec_count = 0\n",
    "        test_count = 0\n",
    "        # 覆盖率\n",
    "        all_rec_movies = set()\n",
    "\n",
    "        for i, user, in enumerate(self.trainSet):\n",
    "            test_movies = self.testSet.get(user, {})\n",
    "            rec_movies = self.recommend(user)\n",
    "            for movie, w in rec_movies:\n",
    "                if movie in test_movies:\n",
    "                    hit += 1\n",
    "                all_rec_movies.add(movie)\n",
    "            rec_count += N\n",
    "            test_count += len(test_movies)\n",
    "\n",
    "        precision = hit / (1.0 * rec_count)\n",
    "        recall = hit / (1.0 * test_count)\n",
    "        coverage = len(all_rec_movies) / (1.0 * self.movie_count)\n",
    "        print('precisioin=%.4f\\trecall=%.4f\\tcoverage=%.4f' % (precision, recall, coverage))"
   ]
  },
  {
   "cell_type": "code",
   "execution_count": 2,
   "metadata": {},
   "outputs": [],
   "source": [
    "def get_dataset(self, filename, pivot=0.75):\n",
    "        trainSet_len = 0\n",
    "        testSet_len = 0\n",
    "        for line in self.load_file(filename):\n",
    "            user, movie, rating, timestamp = line.split(',')\n",
    "            if random.random() < pivot:\n",
    "                self.trainSet.setdefault(user, {})\n",
    "                self.trainSet[user][movie] = rating\n",
    "                trainSet_len += 1\n",
    "            else:\n",
    "                self.testSet.setdefault(user, {})\n",
    "                self.testSet[user][movie] = rating\n",
    "                testSet_len += 1\n",
    "        print('Split trainingSet and testSet success!')\n",
    "        print('TrainSet = %s' % trainSet_len)\n",
    "        print('TestSet = %s' % testSet_len)"
   ]
  },
  {
   "cell_type": "code",
   "execution_count": 15,
   "metadata": {},
   "outputs": [
    {
     "name": "stdout",
     "output_type": "stream",
     "text": [
      "Similar user number = 20\n",
      "Recommneded movie number = 10\n"
     ]
    },
    {
     "ename": "OSError",
     "evalue": "[Errno 22] Invalid argument: 'ml-latest-small\\\\ml-latest-small\\ratings.csv'",
     "output_type": "error",
     "traceback": [
      "\u001b[1;31m---------------------------------------------------------------------------\u001b[0m",
      "\u001b[1;31mOSError\u001b[0m                                   Traceback (most recent call last)",
      "\u001b[1;32m<ipython-input-15-e72a3239fa99>\u001b[0m in \u001b[0;36m<module>\u001b[1;34m()\u001b[0m\n\u001b[0;32m      2\u001b[0m     \u001b[0mrating_file\u001b[0m \u001b[1;33m=\u001b[0m \u001b[1;34m\"ml-latest-small\\ml-latest-small\\ratings.csv\"\u001b[0m\u001b[1;33m\u001b[0m\u001b[0m\n\u001b[0;32m      3\u001b[0m     \u001b[0muserCF\u001b[0m \u001b[1;33m=\u001b[0m \u001b[0mUserBasedCF\u001b[0m\u001b[1;33m(\u001b[0m\u001b[1;33m)\u001b[0m\u001b[1;33m\u001b[0m\u001b[0m\n\u001b[1;32m----> 4\u001b[1;33m     \u001b[0muserCF\u001b[0m\u001b[1;33m.\u001b[0m\u001b[0mget_dataset\u001b[0m\u001b[1;33m(\u001b[0m\u001b[0mrating_file\u001b[0m\u001b[1;33m)\u001b[0m\u001b[1;33m\u001b[0m\u001b[0m\n\u001b[0m\u001b[0;32m      5\u001b[0m     \u001b[0muserCF\u001b[0m\u001b[1;33m.\u001b[0m\u001b[0mcalc_user_sim\u001b[0m\u001b[1;33m(\u001b[0m\u001b[1;33m)\u001b[0m\u001b[1;33m\u001b[0m\u001b[0m\n\u001b[0;32m      6\u001b[0m     \u001b[0muserCF\u001b[0m\u001b[1;33m.\u001b[0m\u001b[0mevaluate\u001b[0m\u001b[1;33m(\u001b[0m\u001b[1;33m)\u001b[0m\u001b[1;33m\u001b[0m\u001b[0m\n",
      "\u001b[1;32m<ipython-input-14-05fcec1c3f9e>\u001b[0m in \u001b[0;36mget_dataset\u001b[1;34m(self, filename, pivot)\u001b[0m\n\u001b[0;32m     26\u001b[0m         \u001b[0mtrainSet_len\u001b[0m \u001b[1;33m=\u001b[0m \u001b[1;36m0\u001b[0m\u001b[1;33m\u001b[0m\u001b[0m\n\u001b[0;32m     27\u001b[0m         \u001b[0mtestSet_len\u001b[0m \u001b[1;33m=\u001b[0m \u001b[1;36m0\u001b[0m\u001b[1;33m\u001b[0m\u001b[0m\n\u001b[1;32m---> 28\u001b[1;33m         \u001b[1;32mfor\u001b[0m \u001b[0mline\u001b[0m \u001b[1;32min\u001b[0m \u001b[0mself\u001b[0m\u001b[1;33m.\u001b[0m\u001b[0mload_file\u001b[0m\u001b[1;33m(\u001b[0m\u001b[0mfilename\u001b[0m\u001b[1;33m)\u001b[0m\u001b[1;33m:\u001b[0m\u001b[1;33m\u001b[0m\u001b[0m\n\u001b[0m\u001b[0;32m     29\u001b[0m             \u001b[0muser\u001b[0m\u001b[1;33m,\u001b[0m \u001b[0mmovie\u001b[0m\u001b[1;33m,\u001b[0m \u001b[0mrating\u001b[0m\u001b[1;33m,\u001b[0m \u001b[0mtimestamp\u001b[0m \u001b[1;33m=\u001b[0m \u001b[0mline\u001b[0m\u001b[1;33m.\u001b[0m\u001b[0msplit\u001b[0m\u001b[1;33m(\u001b[0m\u001b[1;34m','\u001b[0m\u001b[1;33m)\u001b[0m\u001b[1;33m\u001b[0m\u001b[0m\n\u001b[0;32m     30\u001b[0m             \u001b[1;32mif\u001b[0m \u001b[0mrandom\u001b[0m\u001b[1;33m.\u001b[0m\u001b[0mrandom\u001b[0m\u001b[1;33m(\u001b[0m\u001b[1;33m)\u001b[0m \u001b[1;33m<\u001b[0m \u001b[0mpivot\u001b[0m\u001b[1;33m:\u001b[0m\u001b[1;33m\u001b[0m\u001b[0m\n",
      "\u001b[1;32m<ipython-input-14-05fcec1c3f9e>\u001b[0m in \u001b[0;36mload_file\u001b[1;34m(self, filename)\u001b[0m\n\u001b[0;32m     41\u001b[0m     \u001b[1;31m# 读文件，返回文件的每一行\u001b[0m\u001b[1;33m\u001b[0m\u001b[1;33m\u001b[0m\u001b[0m\n\u001b[0;32m     42\u001b[0m     \u001b[1;32mdef\u001b[0m \u001b[0mload_file\u001b[0m\u001b[1;33m(\u001b[0m\u001b[0mself\u001b[0m\u001b[1;33m,\u001b[0m \u001b[0mfilename\u001b[0m\u001b[1;33m)\u001b[0m\u001b[1;33m:\u001b[0m\u001b[1;33m\u001b[0m\u001b[0m\n\u001b[1;32m---> 43\u001b[1;33m         \u001b[1;32mwith\u001b[0m \u001b[0mopen\u001b[0m\u001b[1;33m(\u001b[0m\u001b[0mfilename\u001b[0m\u001b[1;33m,\u001b[0m \u001b[1;34m'r'\u001b[0m\u001b[1;33m)\u001b[0m \u001b[1;32mas\u001b[0m \u001b[0mf\u001b[0m\u001b[1;33m:\u001b[0m\u001b[1;33m\u001b[0m\u001b[0m\n\u001b[0m\u001b[0;32m     44\u001b[0m             \u001b[1;32mfor\u001b[0m \u001b[0mi\u001b[0m\u001b[1;33m,\u001b[0m \u001b[0mline\u001b[0m \u001b[1;32min\u001b[0m \u001b[0menumerate\u001b[0m\u001b[1;33m(\u001b[0m\u001b[0mf\u001b[0m\u001b[1;33m)\u001b[0m\u001b[1;33m:\u001b[0m\u001b[1;33m\u001b[0m\u001b[0m\n\u001b[0;32m     45\u001b[0m                 \u001b[1;32mif\u001b[0m \u001b[0mi\u001b[0m \u001b[1;33m==\u001b[0m \u001b[1;36m0\u001b[0m\u001b[1;33m:\u001b[0m  \u001b[1;31m# 去掉文件第一行的title\u001b[0m\u001b[1;33m\u001b[0m\u001b[0m\n",
      "\u001b[1;31mOSError\u001b[0m: [Errno 22] Invalid argument: 'ml-latest-small\\\\ml-latest-small\\ratings.csv'"
     ]
    }
   ],
   "source": [
    "if __name__ == '__main__':\n",
    "    rating_file = \"ml-latest-small/ml-latest-small/ratings.csv\"\n",
    "    userCF = UserBasedCF()\n",
    "    userCF.get_dataset(rating_file)\n",
    "    userCF.calc_user_sim()\n",
    "    userCF.evaluate()"
   ]
  },
  {
   "cell_type": "code",
   "execution_count": 3,
   "metadata": {},
   "outputs": [],
   "source": [
    "# 读文件，返回文件的每一行\n",
    "def load_file(self, filename):\n",
    "        with open(filename, 'r') as f:\n",
    "            for i, line in enumerate(f):\n",
    "                if i == 0:  # 去掉文件第一行的title\n",
    "                    continue\n",
    "                yield line.strip('\\r\\n')\n",
    "        print('Load %s success!' % filename)"
   ]
  },
  {
   "cell_type": "code",
   "execution_count": 4,
   "metadata": {},
   "outputs": [],
   "source": [
    "# 计算用户之间的相似度\n",
    "def calc_user_sim(self):\n",
    "        # 构建“电影-用户”倒排索引\n",
    "        # key = movieID, value = list of userIDs who have seen this movie\n",
    "        print('Building movie-user table ...')\n",
    "        movie_user = {}\n",
    "        for user, movies in self.trainSet.items():\n",
    "            for movie in movies:\n",
    "                if movie not in movie_user:\n",
    "                    movie_user[movie] = set()\n",
    "                movie_user[movie].add(user)\n",
    "        print('Build movie-user table success!')\n",
    "\n",
    "        self.movie_count = len(movie_user)\n",
    "        print('Total movie number = %d' % self.movie_count)\n",
    "\n",
    "        print('Build user co-rated movies matrix ...')\n",
    "        for movie, users in movie_user.items():\n",
    "            for u in users:\n",
    "                for v in users:\n",
    "                    if u == v:\n",
    "                        continue\n",
    "                    self.user_sim_matrix.setdefault(u, {})\n",
    "                    self.user_sim_matrix[u].setdefault(v, 0)\n",
    "                    self.user_sim_matrix[u][v] += 1\n",
    "        print('Build user co-rated movies matrix success!')"
   ]
  },
  {
   "cell_type": "code",
   "execution_count": 5,
   "metadata": {},
   "outputs": [
    {
     "name": "stdout",
     "output_type": "stream",
     "text": [
      "Calculating user similarity matrix ...\n"
     ]
    },
    {
     "ename": "NameError",
     "evalue": "name 'self' is not defined",
     "output_type": "error",
     "traceback": [
      "\u001b[1;31m---------------------------------------------------------------------------\u001b[0m",
      "\u001b[1;31mNameError\u001b[0m                                 Traceback (most recent call last)",
      "\u001b[1;32m<ipython-input-5-10a8e5bdc934>\u001b[0m in \u001b[0;36m<module>\u001b[1;34m()\u001b[0m\n\u001b[0;32m      1\u001b[0m \u001b[1;31m# 计算相似性\u001b[0m\u001b[1;33m\u001b[0m\u001b[1;33m\u001b[0m\u001b[0m\n\u001b[0;32m      2\u001b[0m \u001b[0mprint\u001b[0m\u001b[1;33m(\u001b[0m\u001b[1;34m'Calculating user similarity matrix ...'\u001b[0m\u001b[1;33m)\u001b[0m\u001b[1;33m\u001b[0m\u001b[0m\n\u001b[1;32m----> 3\u001b[1;33m \u001b[1;32mfor\u001b[0m \u001b[0mu\u001b[0m\u001b[1;33m,\u001b[0m \u001b[0mrelated_users\u001b[0m \u001b[1;32min\u001b[0m \u001b[0mself\u001b[0m\u001b[1;33m.\u001b[0m\u001b[0muser_sim_matrix\u001b[0m\u001b[1;33m.\u001b[0m\u001b[0mitems\u001b[0m\u001b[1;33m(\u001b[0m\u001b[1;33m)\u001b[0m\u001b[1;33m:\u001b[0m\u001b[1;33m\u001b[0m\u001b[0m\n\u001b[0m\u001b[0;32m      4\u001b[0m     \u001b[1;32mfor\u001b[0m \u001b[0mv\u001b[0m\u001b[1;33m,\u001b[0m \u001b[0mcount\u001b[0m \u001b[1;32min\u001b[0m \u001b[0mrelated_users\u001b[0m\u001b[1;33m.\u001b[0m\u001b[0mitems\u001b[0m\u001b[1;33m(\u001b[0m\u001b[1;33m)\u001b[0m\u001b[1;33m:\u001b[0m\u001b[1;33m\u001b[0m\u001b[0m\n\u001b[0;32m      5\u001b[0m         \u001b[0mself\u001b[0m\u001b[1;33m.\u001b[0m\u001b[0muser_sim_matrix\u001b[0m\u001b[1;33m[\u001b[0m\u001b[0mu\u001b[0m\u001b[1;33m]\u001b[0m\u001b[1;33m[\u001b[0m\u001b[0mv\u001b[0m\u001b[1;33m]\u001b[0m \u001b[1;33m=\u001b[0m \u001b[0mcount\u001b[0m \u001b[1;33m/\u001b[0m \u001b[0mmath\u001b[0m\u001b[1;33m.\u001b[0m\u001b[0msqrt\u001b[0m\u001b[1;33m(\u001b[0m\u001b[0mlen\u001b[0m\u001b[1;33m(\u001b[0m\u001b[0mself\u001b[0m\u001b[1;33m.\u001b[0m\u001b[0mtrainSet\u001b[0m\u001b[1;33m[\u001b[0m\u001b[0mu\u001b[0m\u001b[1;33m]\u001b[0m\u001b[1;33m)\u001b[0m \u001b[1;33m*\u001b[0m \u001b[0mlen\u001b[0m\u001b[1;33m(\u001b[0m\u001b[0mself\u001b[0m\u001b[1;33m.\u001b[0m\u001b[0mtrainSet\u001b[0m\u001b[1;33m[\u001b[0m\u001b[0mv\u001b[0m\u001b[1;33m]\u001b[0m\u001b[1;33m)\u001b[0m\u001b[1;33m)\u001b[0m\u001b[1;33m\u001b[0m\u001b[0m\n",
      "\u001b[1;31mNameError\u001b[0m: name 'self' is not defined"
     ]
    }
   ],
   "source": [
    "# 计算相似性\n",
    "print('Calculating user similarity matrix ...')\n",
    "for u, related_users in self.user_sim_matrix.items():\n",
    "    for v, count in related_users.items():\n",
    "        self.user_sim_matrix[u][v] = count / math.sqrt(len(self.trainSet[u]) * len(self.trainSet[v]))\n",
    "print('Calculate user similarity matrix success!')"
   ]
  },
  {
   "cell_type": "code",
   "execution_count": 6,
   "metadata": {},
   "outputs": [],
   "source": [
    "# 针对目标用户U，找到其最相似的K个用户，产生N个推荐\n",
    "def recommend(self, user):\n",
    "        K = self.n_sim_user\n",
    "        N = self.n_rec_movie\n",
    "        rank = {}\n",
    "        watched_movies = self.trainSet[user]\n",
    "\n",
    "        # v=similar user, wuv=similar factor\n",
    "        for v, wuv in sorted(self.user_sim_matrix[user].items(), key=itemgetter(1), reverse=True)[0:K]:\n",
    "            for movie in self.trainSet[v]:\n",
    "                if movie in watched_movies:\n",
    "                    continue\n",
    "                rank.setdefault(movie, 0)\n",
    "                rank[movie] += wuv\n",
    "        return sorted(rank.items(), key=itemgetter(1), reverse=True)[0:N]"
   ]
  },
  {
   "cell_type": "code",
   "execution_count": 7,
   "metadata": {},
   "outputs": [],
   "source": [
    "# 产生推荐并通过准确率、召回率和覆盖率进行评估\n",
    "def evaluate(self):\n",
    "        print(\"Evaluation start ...\")\n",
    "        N = self.n_rec_movie\n",
    "        # 准确率和召回率\n",
    "        hit = 0\n",
    "        rec_count = 0\n",
    "        test_count = 0\n",
    "        # 覆盖率\n",
    "        all_rec_movies = set()\n",
    "\n",
    "        for i, user, in enumerate(self.trainSet):\n",
    "            test_movies = self.testSet.get(user, {})\n",
    "            rec_movies = self.recommend(user)\n",
    "            for movie, w in rec_movies:\n",
    "                if movie in test_movies:\n",
    "                    hit += 1\n",
    "                all_rec_movies.add(movie)\n",
    "            rec_count += N\n",
    "            test_count += len(test_movies)\n",
    "\n",
    "        precision = hit / (1.0 * rec_count)\n",
    "        recall = hit / (1.0 * test_count)\n",
    "        coverage = len(all_rec_movies) / (1.0 * self.movie_count)\n",
    "        print('precisioin=%.4f\\trecall=%.4f\\tcoverage=%.4f' % (precision, recall, coverage))\n"
   ]
  },
  {
   "cell_type": "code",
   "execution_count": 13,
   "metadata": {},
   "outputs": [
    {
     "name": "stdout",
     "output_type": "stream",
     "text": [
      "Similar user number = 20\n",
      "Recommneded movie number = 10\n"
     ]
    },
    {
     "ename": "AttributeError",
     "evalue": "'UserBasedCF' object has no attribute 'get_dataset'",
     "output_type": "error",
     "traceback": [
      "\u001b[1;31m---------------------------------------------------------------------------\u001b[0m",
      "\u001b[1;31mAttributeError\u001b[0m                            Traceback (most recent call last)",
      "\u001b[1;32m<ipython-input-13-e72a3239fa99>\u001b[0m in \u001b[0;36m<module>\u001b[1;34m()\u001b[0m\n\u001b[0;32m      2\u001b[0m     \u001b[0mrating_file\u001b[0m \u001b[1;33m=\u001b[0m \u001b[1;34m\"ml-latest-small\\ml-latest-small\\ratings.csv\"\u001b[0m\u001b[1;33m\u001b[0m\u001b[0m\n\u001b[0;32m      3\u001b[0m     \u001b[0muserCF\u001b[0m \u001b[1;33m=\u001b[0m \u001b[0mUserBasedCF\u001b[0m\u001b[1;33m(\u001b[0m\u001b[1;33m)\u001b[0m\u001b[1;33m\u001b[0m\u001b[0m\n\u001b[1;32m----> 4\u001b[1;33m     \u001b[0muserCF\u001b[0m\u001b[1;33m.\u001b[0m\u001b[0mget_dataset\u001b[0m\u001b[1;33m(\u001b[0m\u001b[0mrating_file\u001b[0m\u001b[1;33m)\u001b[0m\u001b[1;33m\u001b[0m\u001b[0m\n\u001b[0m\u001b[0;32m      5\u001b[0m     \u001b[0muserCF\u001b[0m\u001b[1;33m.\u001b[0m\u001b[0mcalc_user_sim\u001b[0m\u001b[1;33m(\u001b[0m\u001b[1;33m)\u001b[0m\u001b[1;33m\u001b[0m\u001b[0m\n\u001b[0;32m      6\u001b[0m     \u001b[0muserCF\u001b[0m\u001b[1;33m.\u001b[0m\u001b[0mevaluate\u001b[0m\u001b[1;33m(\u001b[0m\u001b[1;33m)\u001b[0m\u001b[1;33m\u001b[0m\u001b[0m\n",
      "\u001b[1;31mAttributeError\u001b[0m: 'UserBasedCF' object has no attribute 'get_dataset'"
     ]
    }
   ],
   "source": [
    "if __name__ == '__main__':\n",
    "    rating_file = \"ml-latest-small\\ml-latest-small\\ratings.csv\"\n",
    "    userCF = UserBasedCF()\n",
    "    userCF.get_dataset(rating_file)\n",
    "    userCF.calc_user_sim()\n",
    "    userCF.evaluate()"
   ]
  },
  {
   "cell_type": "code",
   "execution_count": null,
   "metadata": {},
   "outputs": [],
   "source": []
  }
 ],
 "metadata": {
  "kernelspec": {
   "display_name": "Python 3",
   "language": "python",
   "name": "python3"
  },
  "language_info": {
   "codemirror_mode": {
    "name": "ipython",
    "version": 3
   },
   "file_extension": ".py",
   "mimetype": "text/x-python",
   "name": "python",
   "nbconvert_exporter": "python",
   "pygments_lexer": "ipython3",
   "version": "3.6.4"
  }
 },
 "nbformat": 4,
 "nbformat_minor": 2
}
